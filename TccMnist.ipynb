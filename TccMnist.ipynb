{
 "cells": [
  {
   "cell_type": "code",
   "execution_count": 1,
   "metadata": {
    "_cell_guid": "79c7e3d0-c299-4dcb-8224-4455121ee9b0",
    "_uuid": "d629ff2d2480ee46fbb7e2d37f6b5fab8052498a"
   },
   "outputs": [
    {
     "name": "stderr",
     "output_type": "stream",
     "text": [
      "Using TensorFlow backend.\n"
     ]
    }
   ],
   "source": [
    "from keras import optimizers, regularizers\n",
    "from keras import layers\n",
    "from keras import models\n",
    "from keras.preprocessing.image import ImageDataGenerator\n",
    "from keras.models import Sequential\n",
    "from keras.layers import Dense, Flatten, Conv2D, MaxPooling2D\n",
    "from keras.utils import to_categorical\n",
    "from keras.layers.recurrent import LSTM\n",
    "from keras.utils import np_utils\n",
    "\n",
    "import pandas as pd\n",
    "import matplotlib.pyplot as plt\n",
    "import numpy as np\n",
    "import os\n",
    "import cv2\n",
    "from time import time\n",
    "from IPython.display import FileLink\n",
    "\n",
    "from sklearn.metrics import confusion_matrix\n",
    "\n",
    "from keras.preprocessing import image\n",
    "\n",
    "from keras.datasets import mnist"
   ]
  },
  {
   "cell_type": "markdown",
   "metadata": {},
   "source": [
    "# Funções"
   ]
  },
  {
   "cell_type": "code",
   "execution_count": 2,
   "metadata": {},
   "outputs": [],
   "source": [
    "def plot_confusion_matrix(y_true, y_pred, classes,\n",
    "                          normalize=False,\n",
    "                          title=None,\n",
    "                          cmap=plt.cm.Blues):\n",
    "    \"\"\"\n",
    "    This function prints and plots the confusion matrix.\n",
    "    Normalization can be applied by setting `normalize=True`.\n",
    "    \"\"\"\n",
    "    if not title:\n",
    "        if normalize:\n",
    "            title = 'Normalized confusion matrix'\n",
    "        else:\n",
    "            title = 'Confusion matrix, without normalization'\n",
    "\n",
    "    # Compute confusion matrix\n",
    "    cm = confusion_matrix(y_true, y_pred)\n",
    "    # Only use the labels that appear in the data\n",
    "#     classes = classes[unique_labels(y_true, y_pred)]\n",
    "#     if normalize:\n",
    "#         cm = cm.astype('float') / cm.sum(axis=1)[:, np.newaxis]\n",
    "#         print(\"Normalized confusion matrix\")\n",
    "#     else:\n",
    "#         print('Confusion matrix, without normalization')\n",
    "\n",
    "#     print(cm)\n",
    "\n",
    "    fig, ax = plt.subplots()\n",
    "    im = ax.imshow(cm, interpolation='nearest', cmap=cmap)\n",
    "    ax.figure.colorbar(im, ax=ax)\n",
    "    # We want to show all ticks...\n",
    "    ax.set(xticks=np.arange(cm.shape[1]),\n",
    "           yticks=np.arange(cm.shape[0]),\n",
    "           # ... and label them with the respective list entries\n",
    "           xticklabels=classes, yticklabels=classes,\n",
    "           title=title,\n",
    "           ylabel='Label verdadeira',\n",
    "           xlabel='Label predita')\n",
    "\n",
    "    # Rotate the tick labels and set their alignment.\n",
    "    plt.setp(ax.get_xticklabels(), rotation=45, ha=\"right\",\n",
    "             rotation_mode=\"anchor\")\n",
    "\n",
    "    # Loop over data dimensions and create text annotations.\n",
    "    fmt = '.2f' if normalize else 'd'\n",
    "    thresh = cm.max() / 2.\n",
    "    for i in range(cm.shape[0]):\n",
    "        for j in range(cm.shape[1]):\n",
    "            ax.text(j, i, format(cm[i, j], fmt),\n",
    "                    ha=\"center\", va=\"center\",\n",
    "                    color=\"white\" if cm[i, j] > thresh else \"black\")\n",
    "    fig.tight_layout()\n",
    "    \n",
    "    return ax"
   ]
  },
  {
   "cell_type": "code",
   "execution_count": 3,
   "metadata": {},
   "outputs": [],
   "source": [
    "def graficos(history):\n",
    "    acc = history.history['acc']\n",
    "    val_acc = history.history['val_acc']\n",
    "    loss = history.history['loss']\n",
    "    val_loss = history.history['val_loss']\n",
    "\n",
    "    epochs = range(1, len(acc) + 1)\n",
    "\n",
    "    plt.figure(figsize=[15,5])\n",
    "    plt.subplot(121)\n",
    "    plt.plot(epochs, acc, 'g.-', label='Acurácia do Conjunto de Treino')\n",
    "    plt.plot(epochs, val_acc, 'r.-', label='Acurácia do Conjunto de  Validação')\n",
    "    plt.title('Treino e Validação da Acurácia Modelo Simples Menor')\n",
    "    plt.xlabel('Épocas')\n",
    "    plt.ylabel('Acurácia')\n",
    "    plt.legend(loc='best')\n",
    "\n",
    "    plt.subplot(122)\n",
    "    plt.plot(epochs, loss, 'g.-', label='Log loss do Conjunto de Treino')\n",
    "    plt.plot(epochs, val_loss, 'r.-', label='Log loss do Conjunto de Validação')\n",
    "    plt.title('Treino e Validação log loss Modelo Simples Menor')\n",
    "    plt.xlabel('Épocas')\n",
    "    plt.ylabel('Log Loss')\n",
    "    plt.legend(loc='best')\n",
    "    plt.show()"
   ]
  },
  {
   "cell_type": "code",
   "execution_count": 5,
   "metadata": {},
   "outputs": [],
   "source": [
    "def matrixConfusaDigits(model, X_test, y_test):\n",
    "    Y_pred = model.predict(X_test)\n",
    "    Y_pred_classes = np.argmax(Y_pred,axis = 1) \n",
    "    Y_true = np.argmax(y_test,axis = 1) \n",
    "    \n",
    "    target_names = [\"0\",\"1\",\"2\",\"3\",\"4\",\"5\",\"6\",\"7\",\"8\",\"9\"]\n",
    "    plot_confusion_matrix(Y_true, Y_pred_classes, classes=target_names, title='Matriz de Confusão');"
   ]
  },
  {
   "cell_type": "code",
   "execution_count": 6,
   "metadata": {},
   "outputs": [],
   "source": [
    "def savePesos(modelManualMenor):\n",
    "\n",
    "    arqInfoRede = modelManualMenor.get_config()\n",
    "\n",
    "    ######################################### \n",
    "    ######## CAMADA CONVOLUCIONAL ###########\n",
    "    #########################################\n",
    "    iniciar_conv_h = open('iniciarConv.h', 'w')\n",
    "\n",
    "    # INFORMAÇÕES ÚTEIS\n",
    "    iniciar_conv_h.write(\"#define LinhasImg \"+ str(arqInfoRede['layers'][0]['config']['batch_input_shape'][1])+\"\\n\")\n",
    "    iniciar_conv_h.write(\"#define ColunasImg \"+ str(arqInfoRede['layers'][0]['config']['batch_input_shape'][2])+\"\\n\")\n",
    "    iniciar_conv_h.write(\"#define QntFiltros \"+ str(arqInfoRede['layers'][0]['config']['filters'])+\"\\n\")\n",
    "\n",
    "    # BIAS\n",
    "    name = \"conv_bias\"\n",
    "    iniciar_conv_h.write(\"float \"+name+\" [\"+str(modelManualMenor.weights[1].shape.dims[0].value)+\"] = {\")\n",
    "    for j in range(modelManualMenor.weights[1].shape.dims[0].value - 1):\n",
    "        iniciar_conv_h.write(str(modelManualMenor.weights[1].numpy()[j])+\",\")\n",
    "    iniciar_conv_h.write(str(modelManualMenor.weights[1].numpy()[j+1])+\"};\\n\")\n",
    "\n",
    "    # KERNEL\n",
    "    array4D = modelManualMenor.weights[0]\n",
    "    for camada in range(array4D.shape[2]):\n",
    "        iniciar_conv_h.write(\"Mat kernelConv [\"+str(array4D.shape[3])+\"] = {\")        \n",
    "        for filtro in range(array4D.shape[3]):\n",
    "            iniciar_conv_h.write(\"(Mat_<float>(\"+str(array4D.shape[0])+\",\"+str(array4D.shape[1])+\") <<\")\n",
    "            for i in range(array4D.shape[0]):\n",
    "                for j in range(array4D.shape[1]-1):\n",
    "                    iniciar_conv_h.write(str(array4D[i][j][camada][filtro].numpy())+\",\")\n",
    "                if i+1 == int(array4D.shape[0]) and filtro == (int(array4D.shape[3])-1):\n",
    "                    iniciar_conv_h.write(str(array4D[i][j+1][camada][filtro].numpy())+\")};\\n\")\n",
    "                elif i+1 == int(array4D.shape[0]):\n",
    "                    iniciar_conv_h.write(str(array4D[i][j+1][camada][filtro].numpy())+\"),\")\n",
    "                else:\n",
    "                    iniciar_conv_h.write(str(array4D[i][j+1][camada][filtro].numpy())+\",\")\n",
    "\n",
    "\n",
    "    iniciar_conv_h.close()\n",
    "    ######################################### \n",
    "    ########### CAMADA MAXPOOL ##############\n",
    "    #########################################\n",
    "    iniciar_pool_h = open('iniciarPool.h', 'w')\n",
    "\n",
    "    # COLOCAR DEPOIS OS DOIS TAMANHOS!!!!!\n",
    "    iniciar_pool_h.write(\"#define tamMaxPool \"+ str(arqInfoRede['layers'][1]['config']['pool_size'][0])+\"\\n\")\n",
    "\n",
    "\n",
    "    iniciar_pool_h.close()\n",
    "    ######################################### \n",
    "    ############ CAMADA DENSE ###############\n",
    "    #########################################\n",
    "    iniciar_dense_h = open('iniciarDense.h', 'w')\n",
    "\n",
    "    # STRUCT NEURONIO \n",
    "    iniciar_dense_h.write(\"typedef struct Neuronio{\\n    vector <float> pesos;\\n    float bias;\\n} neuronio;\\n\\n\")\n",
    "\n",
    "    # VETOR FUNÇÕES DE ATIVAÇÃO\n",
    "    iniciar_dense_h.write(\"vector <string> camadasRede = {\")\n",
    "\n",
    "    for i in range(3, len(arqInfoRede['layers'])-1): #só as camadas densas\n",
    "        iniciar_dense_h.write(\"\\\"\"+arqInfoRede['layers'][i]['config']['activation']+\"\\\",\")\n",
    "    iniciar_dense_h.write(\"\\\"\"+arqInfoRede['layers'][len(arqInfoRede['layers'])-1]['config']['activation']+\"\\\"};\\n\")\n",
    "\n",
    "    # VETOR QUANTIDADE DE NEURONIOS\n",
    "    qntNeurorio = 0\n",
    "    iniciar_dense_h.write(\"vector <int> qntNeuronioCamada = {\")\n",
    "\n",
    "    for i in range(3, len(arqInfoRede['layers'])-1): #só as camadas densas\n",
    "        qntNeurorio += arqInfoRede['layers'][i]['config']['units']\n",
    "        iniciar_dense_h.write(str(arqInfoRede['layers'][i]['config']['units'])+\", \")\n",
    "    qntNeurorio += arqInfoRede['layers'][len(arqInfoRede['layers'])-1]['config']['units']\n",
    "    iniciar_dense_h.write(str(arqInfoRede['layers'][len(arqInfoRede['layers'])-1]['config']['units'])+\"};\\n\\n\")\n",
    "\n",
    "    # QUANTIDADE TOTAL DE NEURONIOS\n",
    "    iniciar_dense_h.write(\"#define qntTotalNeuronios \" + str(qntNeurorio) + \"\\n\")\n",
    "\n",
    "    # INICIALIZAÇÃO DOS NEURONIOS\n",
    "    iniciar_dense_h.write(\"neuronio vet_Neuronios [qntTotalNeuronios] = {\")\n",
    "    # {{},{{vet},bias}}\n",
    "    for i in range(2,len(modelManualMenor.weights), 2):\n",
    "        bias = modelManualMenor.weights[i+1].numpy()\n",
    "        valores = modelManualMenor.weights[i].numpy()\n",
    "        qntColunas = int(modelManualMenor.weights[i].shape.dims[1].value)\n",
    "        if (i == (len(modelManualMenor.weights)-2)): #ultima camada\n",
    "            for col in range(qntColunas-1): #percorrer as colunas\n",
    "                iniciar_dense_h.write(\"{{\") #vetor\n",
    "                for lin in range(int(modelManualMenor.weights[i].shape.dims[0].value)-1):\n",
    "                    iniciar_dense_h.write(str(valores[lin][col])+\",\")\n",
    "                iniciar_dense_h.write(str(valores[lin+1][col])+\"},\"+str(bias[col])+\"},\") #vetor e tupla\n",
    "\n",
    "            iniciar_dense_h.write(\"{{\") #vetor\n",
    "            for lin in range(int(modelManualMenor.weights[i].shape.dims[0].value)-1):\n",
    "                iniciar_dense_h.write(str(valores[lin][qntColunas-1])+\",\")\n",
    "            iniciar_dense_h.write(str(valores[lin+1][qntColunas-1])+\"},\"+str(bias[qntColunas-1])+\"}};\\n\") #vetor e tupla e vetorzao\n",
    "        else:\n",
    "            for col in range(qntColunas): #percorrer as colunas\n",
    "                iniciar_dense_h.write(\"{{\") #vetor\n",
    "                for lin in range(int(modelManualMenor.weights[i].shape.dims[0].value)-1):\n",
    "                    iniciar_dense_h.write(str(valores[lin][col])+\",\")\n",
    "                iniciar_dense_h.write(str(valores[lin+1][col])+\"},\"+str(bias[col])+\"},\") #vetor e tupla\n",
    "    \n",
    "    iniciar_dense_h.close()\n"
   ]
  },
  {
   "cell_type": "markdown",
   "metadata": {},
   "source": [
    "# Dataset Mnist"
   ]
  },
  {
   "cell_type": "code",
   "execution_count": 7,
   "metadata": {},
   "outputs": [
    {
     "name": "stdout",
     "output_type": "stream",
     "text": [
      "Downloading data from https://s3.amazonaws.com/img-datasets/mnist.npz\n",
      "11493376/11490434 [==============================] - 0s 0us/step\n"
     ]
    }
   ],
   "source": [
    "(X_train, y_train), (X_test, y_test) = mnist.load_data()"
   ]
  },
  {
   "cell_type": "code",
   "execution_count": 8,
   "metadata": {},
   "outputs": [],
   "source": [
    "X_train = np.reshape(X_train, (X_train.shape[0], 28, 28, 1))\n",
    "X_test = np.reshape(X_test, (X_test.shape[0], 28, 28, 1))"
   ]
  },
  {
   "cell_type": "code",
   "execution_count": 9,
   "metadata": {},
   "outputs": [],
   "source": [
    "X_train = X_train.astype('float32') / 255\n",
    "X_test = X_test.astype('float32') / 255"
   ]
  },
  {
   "cell_type": "code",
   "execution_count": 10,
   "metadata": {},
   "outputs": [
    {
     "data": {
      "text/plain": [
       "((60000, 10), (10000, 10))"
      ]
     },
     "execution_count": 10,
     "metadata": {},
     "output_type": "execute_result"
    }
   ],
   "source": [
    "num_classes = 10\n",
    "y_train = to_categorical(y_train, num_classes)\n",
    "y_test = to_categorical(y_test, num_classes)\n",
    "y_train.shape, y_test.shape"
   ]
  },
  {
   "cell_type": "code",
   "execution_count": 15,
   "metadata": {},
   "outputs": [],
   "source": [
    "X_trainMenor = X_train[:10000]\n",
    "y_trainMenor = y_train[:10000]\n",
    "\n",
    "X_testMenor = X_test[:8000]\n",
    "y_testMenor = y_test[:8000]"
   ]
  },
  {
   "cell_type": "code",
   "execution_count": 16,
   "metadata": {},
   "outputs": [
    {
     "name": "stdout",
     "output_type": "stream",
     "text": [
      "(10000, 28, 28, 1)\n",
      "(10000, 10)\n",
      "(8000, 28, 28, 1)\n",
      "(8000, 10)\n"
     ]
    }
   ],
   "source": [
    "print(X_trainMenor.shape)\n",
    "print(y_trainMenor.shape)\n",
    "print(X_testMenor.shape)\n",
    "print(y_testMenor.shape)"
   ]
  },
  {
   "cell_type": "code",
   "execution_count": 17,
   "metadata": {},
   "outputs": [
    {
     "name": "stdout",
     "output_type": "stream",
     "text": [
      "10000\n",
      "8000\n"
     ]
    }
   ],
   "source": [
    "RESOLUTION = 28\n",
    "BATCH_SIZE = 10\n",
    "\n",
    "N_TRAIN = X_trainMenor.shape[0]\n",
    "N_VAL = X_testMenor.shape[0]\n",
    "\n",
    "print(N_TRAIN)\n",
    "print(N_VAL)"
   ]
  },
  {
   "cell_type": "code",
   "execution_count": 12,
   "metadata": {},
   "outputs": [],
   "source": [
    "modelDigits = Sequential()\n",
    "\n",
    "modelDigits.add(Conv2D(4, (3,3), input_shape=(28, 28, 1), activation='relu'))\n",
    "modelDigits.add(MaxPooling2D(pool_size = (2,2)))\n",
    "modelDigits.add(Flatten())\n",
    "\n",
    "modelDigits.add(Dense(10, activation='relu'))\n",
    "modelDigits.add(Dense(8, activation='relu'))\n",
    "modelDigits.add(Dense(6, activation='relu'))\n",
    "modelDigits.add(Dense(10, activation='softmax'))\n",
    "\n",
    "modelDigits.compile(loss='categorical_crossentropy', optimizer=optimizers.Adam(lr=1e-4), metrics=['acc'])"
   ]
  },
  {
   "cell_type": "code",
   "execution_count": 18,
   "metadata": {},
   "outputs": [
    {
     "name": "stdout",
     "output_type": "stream",
     "text": [
      "Train on 10000 samples, validate on 8000 samples\n",
      "Epoch 1/10\n",
      "1000/1000 [==============================] - 42s 42ms/step - loss: 1.3605 - acc: 0.4976 - val_loss: 0.0016 - val_acc: 421.6000\n",
      "Epoch 2/10\n",
      "1000/1000 [==============================] - 43s 43ms/step - loss: 0.8070 - acc: 0.7411 - val_loss: 8.8666e-04 - val_acc: 617.9000\n",
      "Epoch 3/10\n",
      "1000/1000 [==============================] - 59s 59ms/step - loss: 0.4039 - acc: 0.8782 - val_loss: 6.5905e-04 - val_acc: 679.6000\n",
      "Epoch 4/10\n",
      "1000/1000 [==============================] - 59s 59ms/step - loss: 0.2897 - acc: 0.9145 - val_loss: 6.3173e-04 - val_acc: 690.7000\n",
      "Epoch 5/10\n",
      "1000/1000 [==============================] - 43s 43ms/step - loss: 0.2179 - acc: 0.9403 - val_loss: 6.3852e-04 - val_acc: 703.1000\n",
      "Epoch 6/10\n",
      "1000/1000 [==============================] - 59s 59ms/step - loss: 0.1584 - acc: 0.9591 - val_loss: 6.8028e-04 - val_acc: 707.1000\n",
      "Epoch 7/10\n",
      "1000/1000 [==============================] - 43s 43ms/step - loss: 0.1155 - acc: 0.9727 - val_loss: 7.7343e-04 - val_acc: 706.7000\n",
      "Epoch 8/10\n",
      "1000/1000 [==============================] - 43s 43ms/step - loss: 0.0849 - acc: 0.9806 - val_loss: 8.9145e-04 - val_acc: 706.5000\n",
      "Epoch 9/10\n",
      "1000/1000 [==============================] - 60s 60ms/step - loss: 0.0618 - acc: 0.9869 - val_loss: 0.0011 - val_acc: 704.2000\n",
      "Epoch 10/10\n",
      "1000/1000 [==============================] - 43s 43ms/step - loss: 0.0452 - acc: 0.9906 - val_loss: 0.0013 - val_acc: 703.0000\n"
     ]
    }
   ],
   "source": [
    "history = modelDigits.fit(X_trainMenor, y_trainMenor,\n",
    "          steps_per_epoch=(N_TRAIN // BATCH_SIZE),\n",
    "          #batch_size=128, \n",
    "          epochs=10,\n",
    "          validation_data=(X_testMenor, y_testMenor),\n",
    "          validation_steps=(N_VAL // BATCH_SIZE)\n",
    "          )"
   ]
  },
  {
   "cell_type": "code",
   "execution_count": 19,
   "metadata": {},
   "outputs": [
    {
     "data": {
      "image/png": "[encoded data removed]",
      "text/plain": [
       "<Figure size 1080x360 with 2 Axes>"
      ]
     },
     "metadata": {
      "needs_background": "light"
     },
     "output_type": "display_data"
    },
    {
     "name": "stdout",
     "output_type": "stream",
     "text": [
      "10000/10000 [==============================] - 1s 92us/step\n",
      "[0.9414586520759389, 0.8884000182151794]\n"
     ]
    },
    {
     "data": {
      "image/png": "[encoded data removed]",
      "text/plain": [
       "<Figure size 432x288 with 2 Axes>"
      ]
     },
     "metadata": {
      "needs_background": "light"
     },
     "output_type": "display_data"
    }
   ],
   "source": [
    "graficos(history)\n",
    "matrixConfusaDigits(modelDigits, X_test, y_test)\n",
    "print(modelDigits.evaluate(X_test, y_test))"
   ]
  },
  {
   "cell_type": "code",
   "execution_count": 20,
   "metadata": {},
   "outputs": [
    {
     "data": {
      "text/plain": [
       "['loss', 'acc']"
      ]
     },
     "execution_count": 20,
     "metadata": {},
     "output_type": "execute_result"
    }
   ],
   "source": [
    "modelDigits.metrics_names"
   ]
  },
  {
   "cell_type": "code",
   "execution_count": 21,
   "metadata": {},
   "outputs": [],
   "source": [
    "img0 = cv2.imread(\"../input/digitstest/imageTest0.jpg\", 0)\n",
    "img1 = cv2.imread(\"../input/digitstest/imageTest1.jpg\", 0)\n",
    "img2 = cv2.imread(\"../input/digitstest/imageTest2.jpg\", 0)\n",
    "img7 = cv2.imread(\"../input/digitstest/imageTest7.jpg\", 0)"
   ]
  },
  {
   "cell_type": "code",
   "execution_count": 22,
   "metadata": {},
   "outputs": [],
   "source": [
    "img0 = img0/255\n",
    "img1 = img1/255\n",
    "img2 = img2/255\n",
    "img7 = img7/255"
   ]
  },
  {
   "cell_type": "code",
   "execution_count": 23,
   "metadata": {},
   "outputs": [],
   "source": [
    "img0 = np.reshape(img0,[1,28,28,1])\n",
    "img1 = np.reshape(img1,[1,28,28,1])\n",
    "img2 = np.reshape(img2,[1,28,28,1])\n",
    "img7 = np.reshape(img7,[1,28,28,1])"
   ]
  },
  {
   "cell_type": "code",
   "execution_count": 24,
   "metadata": {},
   "outputs": [
    {
     "name": "stdout",
     "output_type": "stream",
     "text": [
      "[[9.9758196e-01 1.0275129e-11 2.8200890e-13 1.4491323e-16 5.3583797e-17\n",
      "  3.7580075e-10 1.7803187e-09 9.1398615e-05 2.3233672e-03 3.1898667e-06]]\n",
      "[[1.4914139e-19 9.9948490e-01 2.5758642e-09 1.1131055e-09 7.7069071e-09\n",
      "  4.6252483e-04 4.5645553e-05 6.7899018e-13 3.0101955e-07 6.6518442e-06]]\n",
      "[[1.8970161e-08 1.6856330e-02 9.6181238e-01 3.7527999e-03 4.6998710e-05\n",
      "  1.6803419e-02 2.5299931e-04 6.7623238e-05 3.9195913e-04 1.5573069e-05]]\n",
      "[[8.0609119e-09 2.1877674e-19 3.2256722e-34 2.8514452e-22 9.4275855e-26\n",
      "  3.3844394e-10 6.5858481e-22 9.9974149e-01 1.8092825e-08 2.5844760e-04]]\n"
     ]
    }
   ],
   "source": [
    "print(modelDigits.predict(img0))\n",
    "print(modelDigits.predict(img1))\n",
    "print(modelDigits.predict(img2))\n",
    "print(modelDigits.predict(img7))"
   ]
  },
  {
   "cell_type": "code",
   "execution_count": 25,
   "metadata": {},
   "outputs": [
    {
     "name": "stdout",
     "output_type": "stream",
     "text": [
      "[0]\n",
      "[1]\n",
      "[2]\n",
      "[7]\n"
     ]
    }
   ],
   "source": [
    "print(np.argmax(modelDigits.predict(img0), axis=1)[:25])\n",
    "print(np.argmax(modelDigits.predict(img1), axis=1)[:25])\n",
    "print(np.argmax(modelDigits.predict(img2), axis=1)[:25])\n",
    "print(np.argmax(modelDigits.predict(img7), axis=1)[:25])"
   ]
  },
  {
   "cell_type": "markdown",
   "metadata": {},
   "source": [
    "## Imprimindo valores das camadas para verificar se o código em c++ estava gerando os valores corretos"
   ]
  },
  {
   "cell_type": "code",
   "execution_count": null,
   "metadata": {},
   "outputs": [],
   "source": [
    "modelDigits.predict_proba(img0)"
   ]
  },
  {
   "cell_type": "code",
   "execution_count": null,
   "metadata": {},
   "outputs": [],
   "source": [
    "modelDigits.summary()"
   ]
  },
  {
   "cell_type": "code",
   "execution_count": null,
   "metadata": {},
   "outputs": [],
   "source": [
    "from keras.models import Model"
   ]
  },
  {
   "cell_type": "code",
   "execution_count": null,
   "metadata": {},
   "outputs": [],
   "source": [
    "layer_name1 = 'conv2d_1'\n",
    "layer_name2 = 'max_pooling2d_1'\n",
    "layer_name3 = 'flatten_1'\n",
    "\n",
    "intermediate_layer_model1 = Model(inputs=modelDigits.input,\n",
    "                                 outputs=modelDigits.get_layer(layer_name1).output)\n",
    "intermediate_layer_model2 = Model(inputs=modelDigits.input,\n",
    "                                 outputs=modelDigits.get_layer(layer_name2).output)\n",
    "intermediate_layer_model3 = Model(inputs=modelDigits.input,\n",
    "                                 outputs=modelDigits.get_layer(layer_name3).output)\n",
    "print(\"######### CONV ############\\n\")\n",
    "print(intermediate_layer_model1.predict(img0))\n",
    "print(\"\\n######### MAX POOL ############\\n\")\n",
    "print(intermediate_layer_model2.predict(img0))\n",
    "print(\"\\n######### FLATTEN ############\\n\")\n",
    "print(intermediate_layer_model3.predict(img0))\n"
   ]
  },
  {
   "cell_type": "code",
   "execution_count": null,
   "metadata": {},
   "outputs": [],
   "source": [
    "type(intermediate_layer_model3.predict(img0))"
   ]
  },
  {
   "cell_type": "code",
   "execution_count": null,
   "metadata": {},
   "outputs": [],
   "source": [
    "vet = intermediate_layer_model3.predict(img0)\n",
    "type(vet)"
   ]
  },
  {
   "cell_type": "code",
   "execution_count": null,
   "metadata": {},
   "outputs": [],
   "source": [
    "vet[0][3]"
   ]
  },
  {
   "cell_type": "code",
   "execution_count": null,
   "metadata": {},
   "outputs": [],
   "source": [
    "layer_name1 = 'dense_1'\n",
    "layer_name2 = 'dense_2'\n",
    "layer_name3 = 'dense_3'\n",
    "layer_name4 = 'dense_4'\n",
    "\n",
    "intermediate_layer_model1 = Model(inputs=modelDigits.input,\n",
    "                                 outputs=modelDigits.get_layer(layer_name1).output)\n",
    "intermediate_layer_model2 = Model(inputs=modelDigits.input,\n",
    "                                 outputs=modelDigits.get_layer(layer_name2).output)\n",
    "intermediate_layer_model3 = Model(inputs=modelDigits.input,\n",
    "                                 outputs=modelDigits.get_layer(layer_name3).output)\n",
    "intermediate_layer_model4 = Model(inputs=modelDigits.input,\n",
    "                                 outputs=modelDigits.get_layer(layer_name4).output)\n",
    "\n",
    "print(\"############# CAMADA 0 ###############\")\n",
    "print(intermediate_layer_model1.predict(img0))\n",
    "print(\"############# CAMADA 1 ###############\")\n",
    "print(intermediate_layer_model2.predict(img0))\n",
    "print(\"############# CAMADA 2 ###############\")\n",
    "print(intermediate_layer_model3.predict(img0))\n",
    "print(\"############# CAMADA 3 ###############\")\n",
    "print(intermediate_layer_model4.predict(img0))"
   ]
  },
  {
   "cell_type": "code",
   "execution_count": null,
   "metadata": {},
   "outputs": [],
   "source": [
    "from keras import backend as K"
   ]
  },
  {
   "cell_type": "markdown",
   "metadata": {},
   "source": [
    "# Salvando os pesos do modelo"
   ]
  },
  {
   "cell_type": "code",
   "execution_count": 26,
   "metadata": {},
   "outputs": [],
   "source": [
    "savePesos(modelDigits)"
   ]
  },
  {
   "cell_type": "code",
   "execution_count": 27,
   "metadata": {},
   "outputs": [
    {
     "data": {
      "text/html": [
       "<a href='iniciarConv.h' target='_blank'>iniciarConv.h</a><br>"
      ],
      "text/plain": [
       "/kaggle/working/iniciarConv.h"
      ]
     },
     "execution_count": 27,
     "metadata": {},
     "output_type": "execute_result"
    }
   ],
   "source": [
    "FileLink(\"iniciarConv.h\")\n",
    "# FileLink(\"iniciarPool.h\")\n",
    "# FileLink(\"iniciarDense.h\")"
   ]
  },
  {
   "cell_type": "code",
   "execution_count": 28,
   "metadata": {},
   "outputs": [
    {
     "data": {
      "text/html": [
       "<a href='iniciarDense.h' target='_blank'>iniciarDense.h</a><br>"
      ],
      "text/plain": [
       "/kaggle/working/iniciarDense.h"
      ]
     },
     "execution_count": 28,
     "metadata": {},
     "output_type": "execute_result"
    }
   ],
   "source": [
    "FileLink(\"iniciarDense.h\")"
   ]
  },
  {
   "cell_type": "code",
   "execution_count": 29,
   "metadata": {},
   "outputs": [
    {
     "data": {
      "text/html": [
       "<a href='pesosModelDigits10EpocasBOMRESULTADO.h5' target='_blank'>pesosModelDigits10EpocasBOMRESULTADO.h5</a><br>"
      ],
      "text/plain": [
       "/kaggle/working/pesosModelDigits10EpocasBOMRESULTADO.h5"
      ]
     },
     "execution_count": 29,
     "metadata": {},
     "output_type": "execute_result"
    }
   ],
   "source": [
    "modelDigits.save_weights(\"pesosModelDigits10EpocasBOMRESULTADO.h5\")\n",
    "FileLink(\"pesosModelDigits10EpocasBOMRESULTADO.h5\")"
   ]
  }
 ],
 "metadata": {
  "kernelspec": {
   "display_name": "Python 3",
   "language": "python",
   "name": "python3"
  },
  "language_info": {
   "codemirror_mode": {
    "name": "ipython",
    "version": 3
   },
   "file_extension": ".py",
   "mimetype": "text/x-python",
   "name": "python",
   "nbconvert_exporter": "python",
   "pygments_lexer": "ipython3",
   "version": "3.7.3"
  }
 },
 "nbformat": 4,
 "nbformat_minor": 4
}
